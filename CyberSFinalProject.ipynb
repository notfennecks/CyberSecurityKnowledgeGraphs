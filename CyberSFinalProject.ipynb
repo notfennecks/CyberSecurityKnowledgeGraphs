{
 "cells": [
  {
   "cell_type": "code",
   "execution_count": 2,
   "id": "4834df42",
   "metadata": {},
   "outputs": [],
   "source": [
    "import numpy as np\n",
    "import numpy\n",
    "from numpy.linalg import norm\n",
    "\n",
    "import pandas as pd"
   ]
  },
  {
   "cell_type": "code",
   "execution_count": 3,
   "id": "6b93db6a",
   "metadata": {},
   "outputs": [],
   "source": [
    "pd.set_option('display.max_colwidth', None)"
   ]
  },
  {
   "cell_type": "code",
   "execution_count": 4,
   "id": "4ba5b949",
   "metadata": {},
   "outputs": [],
   "source": [
    "import neo4j\n",
    "from neo4j import GraphDatabase\n",
    "from graphdatascience import GraphDataScience\n",
    "import os"
   ]
  },
  {
   "cell_type": "code",
   "execution_count": 5,
   "id": "1baf9304",
   "metadata": {},
   "outputs": [],
   "source": [
    "file_path = 'CAPEC.csv'"
   ]
  },
  {
   "cell_type": "code",
   "execution_count": 6,
   "id": "b69bb8a0",
   "metadata": {},
   "outputs": [],
   "source": [
    "df = pd.read_csv(file_path)"
   ]
  },
  {
   "cell_type": "code",
   "execution_count": 7,
   "id": "742e52d6",
   "metadata": {},
   "outputs": [
    {
     "name": "stdout",
     "output_type": "stream",
     "text": [
      "    ID                                                      Name Abstraction  \\\n",
      "0    1  Accessing Functionality Not Properly Constrained by ACLs    Standard   \n",
      "1   10                 Buffer Overflow via Environment Variables    Detailed   \n",
      "2  100                                          Overflow Buffers    Standard   \n",
      "3  101                       Server Side Include (SSI) Injection    Detailed   \n",
      "4  102                                       Session Sidejacking    Detailed   \n",
      "\n",
      "  Status  \\\n",
      "0  Draft   \n",
      "1  Draft   \n",
      "2  Draft   \n",
      "3  Draft   \n",
      "4  Draft   \n",
      "\n",
      "                                                                                                                                                                                                                                                                                                                                                                                                                                                                                                                                                                                                                                                                                                                                                                                         Description  \\\n",
      "0  In applications, particularly web applications, access to functionality is mitigated by an authorization framework. This framework maps Access Control Lists (ACLs) to elements of the application's functionality; particularly URL's for web apps. In the case that the administrator failed to specify an ACL for a particular element, an attacker may be able to access it with impunity. An attacker with the ability to access functionality not properly constrained by ACLs can obtain sensitive information and possibly compromise the entire application. Such an attacker can access resources that must be available only to users at a higher privilege level, can access management sections of the application, or can run queries for data that they otherwise not supposed to.   \n",
      "1                                                                                                                                                                                                                                                                                                                                                                                                                                                                                               This attack pattern involves causing a buffer overflow through manipulation of environment variables. Once the attacker finds that they can modify an environment variable, they may try to overflow associated buffers. This attack leverages implicit trust often placed in environment variables.   \n",
      "2                                                                                                                                                                                                                                                                                                                                                                                                                                         Buffer Overflow attacks target improper or missing bounds checking on buffer operations, typically triggered by input injected by an adversary. As a consequence, an adversary is able to write past the boundaries of allocated buffer regions in memory, causing a program crash or potentially redirection of execution as per the adversaries' choice.   \n",
      "3                                                                                                                                                                                                                                                       An attacker can use Server Side Include (SSI) Injection to send code to a web application that then gets executed by the web server. Doing so enables the attacker to achieve similar results to Cross Site Scripting, viz., arbitrary code execution and information disclosure, albeit on a more limited scale, since the SSI directives are nowhere near as powerful as a full-fledged scripting language. Nonetheless, the attacker can conveniently gain access to sensitive files, such as password files, and execute shell commands.   \n",
      "4                                                                                         Session sidejacking takes advantage of an unencrypted communication channel between a victim and target system. The attacker sniffs traffic on a network looking for session tokens in unencrypted traffic. Once a session token is captured, the attacker performs malicious actions by using the stolen token with the targeted application to impersonate the victim. This attack is a specific method of session hijacking, which is exploiting a valid session token to gain unauthorized access to a target system or information. Other methods to perform a session hijacking are session fixation, cross-site scripting, or compromising a user or server machine and stealing the session token.   \n",
      "\n",
      "  Alternate Terms Likelihood Of Attack Typical Severity  \\\n",
      "0             NaN                 High             High   \n",
      "1             NaN                 High             High   \n",
      "2             NaN                 High        Very High   \n",
      "3             NaN                 High             High   \n",
      "4             NaN                 High             High   \n",
      "\n",
      "                        Related Attack Patterns  \\\n",
      "0  ::NATURE:ChildOf:CAPEC ID:122:VIEW ID:1000::   \n",
      "1  ::NATURE:ChildOf:CAPEC ID:100:VIEW ID:1000::   \n",
      "2  ::NATURE:ChildOf:CAPEC ID:123:VIEW ID:1000::   \n",
      "3  ::NATURE:ChildOf:CAPEC ID:253:VIEW ID:1000::   \n",
      "4  ::NATURE:ChildOf:CAPEC ID:593:VIEW ID:1000::   \n",
      "\n",
      "                                                                                                                                                                                                                                                                                                                                                                                                                                                                                                                                                                                                                                                                                                                                                                                                                                                                                                                                                                                                                                                                                                                                                                                                                                                                                                                                                                                                                                                                                                                                                                                                                          Execution Flow  \\\n",
      "0                                                                                                                                                                                                                                                                                            ::STEP:1:PHASE:Explore:DESCRIPTION:[Survey] The attacker surveys the target application, possibly as a valid and authenticated userTECHNIQUE:Spidering web sites for all available links:TECHNIQUE:Brute force guessing of resource names:TECHNIQUE:Brute force guessing of user names / credentials:TECHNIQUE:Brute force guessing of function names / actions::STEP:2:PHASE:Explore:DESCRIPTION:[Identify Functionality] At each step, the attacker notes the resource or functionality access mechanism invoked upon performing specific actionsTECHNIQUE:Use the web inventory of all forms and inputs and apply attack data to those inputs.:TECHNIQUE:Use a packet sniffer to capture and record network traffic:TECHNIQUE:Execute the software in a debugger and record API calls into the operating system or important libraries. This might occur in an environment other than a production environment, in order to find weaknesses that can be exploited in a production environment.::STEP:3:PHASE:Experiment:DESCRIPTION:[Iterate over access capabilities] Possibly as a valid user, the attacker then tries to access each of the noted access mechanisms directly in order to perform functions not constrained by the ACLs.TECHNIQUE:Fuzzing of API parameters (URL parameters, OS API parameters, protocol parameters)::   \n",
      "1                                                                                                                                                                                                                                                                                                                                                                                                                                                                                                                                                                                                                                                                                                                                                                                                                                                                                                                                                                                                                                                 ::STEP:1:PHASE:Explore:DESCRIPTION:The attacker tries to find an environment variable which can be overwritten for instance by gathering information about the target host (error pages, software's version number, etc.).::STEP:2:PHASE:Experiment:DESCRIPTION:The attacker manipulates the environment variable to contain excessive-length content to cause a buffer overflow.::STEP:3:PHASE:Exploit:DESCRIPTION:The attacker potentially leverages the buffer overflow to inject maliciously crafted code in an attempt to execute privileged command on the target environment.::   \n",
      "2                                                                                                                                                                                                                                                                                                            ::STEP:1:PHASE:Explore:DESCRIPTION:The adversary identifies a buffer to target. Buffer regions are either allotted on the stack or the heap, and the exact nature of attack would vary depending on the location of the buffer::STEP:2:PHASE:Explore:DESCRIPTION:Next, the adversary identifies an injection vector to deliver the excessive content to the targeted buffer.::STEP:3:PHASE:Experiment:DESCRIPTION:The adversary crafts the content to be injected. If the intent is to simply cause the software to crash, the content need only consist of an excessive quantity of random data. If the intent is to leverage the overflow for execution of arbitrary code, the adversary will craft a set of content that not only overflows the targeted buffer but does so in such a way that the overwritten return address is replaced with one of the adversaries' choosing which points to code injected by the adversary.::STEP:4:PHASE:Exploit:DESCRIPTION:The adversary injects the content into the targeted software.::STEP:5:PHASE:Exploit:DESCRIPTION:Upon successful exploitation, the system either crashes or control of the program is returned to a location of the adversaries' choice. This can result in execution of arbitrary code or escalated privileges, depending upon the exploited target.::   \n",
      "3  ::STEP:1:PHASE:Explore:DESCRIPTION:[Determine applicability] The attacker determines whether server side includes are enabled on the target web server.TECHNIQUE:Look for popular page file names. The attacker will look for .shtml, .shtm, .asp, .aspx, and other well-known strings in URLs to help determine whether SSI functionality is enabled.:TECHNIQUE:Fetch .htaccess file. In Apache web server installations, the .htaccess file may enable server side includes in specific locations. In those cases, the .htaccess file lives inside the directory where SSI is enabled, and is theoretically fetchable from the web server. Although most web servers deny fetching the .htaccess file, a misconfigured server will allow it. Thus, an attacker will frequently try it.::STEP:2:PHASE:Explore:DESCRIPTION:[Attempt SSI] Look for user controllable input, including HTTP headers, that can carry server side include directives to the web server.TECHNIQUE:Use a spidering tool to follow and record all links. Make special note of any links that include parameters in the URL.:TECHNIQUE:Use a proxy tool to record all links visited during a manual traversal of the web application. Make special note of any links that include parameters in the URL. Manual traversal of this type is frequently necessary to identify forms that are GET method forms rather than POST forms.::STEP:3:PHASE:Explore:DESCRIPTION:[Inject SSI] The attacker may then need to view a particular page in order to have the server execute the include directive and run a command or open a file on behalf of the attacker::   \n",
      "4                                                                                                                                                                                                                                                                                                                                                                                                                                                          ::STEP:1:PHASE:Explore:DESCRIPTION:[Detect Unprotected Session Token Transfer] The attacker sniffs on the wireless network to detect unencrypted traffic that contains session tokens.TECHNIQUE:The attacker uses a network sniffer tool like ferret or hamster to monitor the wireless traffic at a WiFi hotspot while examining it for evidence of transmittal of session tokens in unencrypted or recognizably encrypted form. An attacker applies his knowledge of the manner by which session tokens are generated and transmitted by various target systems to identify the session tokens.::STEP:2:PHASE:Experiment:DESCRIPTION:[Capture session token] The attacker uses sniffing tools to capture a session token from traffic.::STEP:3:PHASE:Experiment:DESCRIPTION:[Insert captured session token] The attacker attempts to insert a captured session token into communication with the targeted application to confirm viability for exploitation.::STEP:4:PHASE:Exploit:DESCRIPTION:[Session Token Exploitation] The attacker leverages the captured session token to interact with the targeted application in a malicious fashion, impersonating the victim.::   \n",
      "\n",
      "                                                                                                                                                                                                                                                                                                                                                                                                                                            Prerequisites  \\\n",
      "0                                                                                    ::The application must be navigable in a manner that associates elements (subsections) of the application with ACLs.::The various resources, or individual URLs, must be somehow discoverable by the attacker::The administrator must have forgotten to associate an ACL or has associated an inappropriately permissive ACL with a particular navigable resource.::   \n",
      "1                                                                                             ::The application uses environment variables.::An environment variable exposed to the user is vulnerable to a buffer overflow.::The vulnerable environment variable uses untrusted data.::Tainted data used in the environment variables is not properly validated. For instance boundary checking is not done before copying the input data to a buffer.::   \n",
      "2                                                                                                                                                                                                                                             ::Targeted software performs buffer operations.::Targeted software inadequately performs bounds-checking on buffer operations.::Adversary has the capability to influence the input to buffer operations.::   \n",
      "3                                                                                                                                                                                                                                                                                                   ::A web server that supports server side includes and has them enabled::User controllable input that can carry include directives to the web server::   \n",
      "4  ::An attacker and the victim are both using the same WiFi network.::The victim has an active session with a target system.::The victim is not using a secure channel to communicate with the target system (e.g. SSL, VPN, etc.)::The victim initiated communication with a target system that requires transfer of the session token or the target application uses AJAX and thereby periodically rings home asynchronously using the session token::   \n",
      "\n",
      "                                                                                                                                                                                                                                                                                                                                                                                                                                         Skills Required  \\\n",
      "0                                                                                                                                                                           ::SKILL:In order to discover unrestricted resources, the attacker does not need special tools or skills. He only has to observe the resources or access mechanisms invoked as each action is performed and then try and access those access mechanisms directly.:LEVEL:Low::   \n",
      "1                                                                                                                          ::SKILL:An attacker can simply overflow a buffer by inserting a long string into an attacker-modifiable injection vector. The result can be a DoS.:LEVEL:Low::SKILL:Exploiting a buffer overflow to inject malicious code into the stack of a software system or even the heap can require a higher skill level.:LEVEL:High::   \n",
      "2  ::SKILL:In most cases, overflowing a buffer does not require advanced skills beyond the ability to notice an overflow and stuff an input variable with content.:LEVEL:Low::SKILL:In cases of directed overflows, where the motive is to divert the flow of the program or application as per the adversaries' bidding, high level skills are required. This may involve detailed knowledge of the target system architecture and kernel.:LEVEL:High::   \n",
      "3                                                                                                                                                                                                                                                               ::SKILL:The attacker needs to be aware of SSI technology, determine the nature of injection and be able to craft input that results in the SSI directives being executed.:LEVEL:Medium::   \n",
      "4                                                                                                                                                                                                                                                                                                                                                                                   ::SKILL:Easy to use tools exist to automate this attack.:LEVEL:Low::   \n",
      "\n",
      "                                                                                                                                                                                                                                                                          Resources Required  \\\n",
      "0                                                                                                                                                                                                            ::None: No specialized resources are required to execute this type of attack.::   \n",
      "1                                                                                                                                                                                                                                                                                        NaN   \n",
      "2                                                                             ::None: No specialized resources are required to execute this type of attack. Detecting and exploiting a buffer overflow does not require any resources beyond knowledge of and access to the target system.::   \n",
      "3  ::None: No specialized resources are required to execute this type of attack. Determining whether the server supports SSI does not require special tools, and nor does injecting directives that get executed. Spidering tools can make the task of finding and following links easier.::   \n",
      "4                                                                                                                                                                                                 ::A packet sniffing tool, such as wireshark, can be used to capture session information.::   \n",
      "\n",
      "                                                                                                                                                                                                                                                                                                                                                                                                                          Indicators  \\\n",
      "0                                                                                                                                                                                                                                                                                                                                                                                                                                NaN   \n",
      "1                                                                                                                                                                                                                ::If the application does bound checking, it should fail when the data source is larger than the size of the destination buffer. If the application's code is well written, that failure should trigger an alert.::   \n",
      "2  ::An attack designed to leverage a buffer overflow and redirect execution as per the adversary's bidding is fairly difficult to detect. An attack aimed solely at bringing the system down is usually preceded by a barrage of long inputs that make no sense. In either case, it is likely that the adversary would have resorted to a few hit-or-miss attempts that will be recorded in the system event logs, if they exist.::   \n",
      "3                                                                                                                                                                                                                                                                                                                                                                                                                                NaN   \n",
      "4                                                                                                                                                                                                                                                                                                                                                                                                                                NaN   \n",
      "\n",
      "                                                                                                                                                                                                                                                                                                                                                                                                                                                     Consequences  \\\n",
      "0                                                                                                                                                                                                                                                                                                                                                              ::SCOPE:Confidentiality:SCOPE:Access Control:SCOPE:AuthorizationTECHNICAL IMPACT:Gain Privileges::   \n",
      "1  ::SCOPE:AvailabilityTECHNICAL IMPACT:Unreliable Execution::SCOPE:Confidentiality:SCOPE:Integrity:SCOPE:AvailabilityTECHNICAL IMPACT:Execute Unauthorized Commands:NOTE:Confidentiality Integrity Availability Execute Unauthorized Commands Run Arbitrary Code::SCOPE:ConfidentialityTECHNICAL IMPACT:Read Data::SCOPE:IntegrityTECHNICAL IMPACT:Modify Data::SCOPE:Confidentiality:SCOPE:Access Control:SCOPE:AuthorizationTECHNICAL IMPACT:Gain Privileges::   \n",
      "2                                                                                                ::SCOPE:AvailabilityTECHNICAL IMPACT:Unreliable Execution::SCOPE:Confidentiality:SCOPE:Integrity:SCOPE:AvailabilityTECHNICAL IMPACT:Execute Unauthorized Commands:NOTE:Confidentiality Integrity Availability Execute Unauthorized Commands Run Arbitrary Code::SCOPE:Confidentiality:SCOPE:Access Control:SCOPE:AuthorizationTECHNICAL IMPACT:Gain Privileges::   \n",
      "3                                                                                                                                                                                                        ::SCOPE:ConfidentialityTECHNICAL IMPACT:Read Data::SCOPE:Confidentiality:SCOPE:Integrity:SCOPE:AvailabilityTECHNICAL IMPACT:Execute Unauthorized Commands:NOTE:Confidentiality Integrity Availability Execute Unauthorized Commands Run Arbitrary Code::   \n",
      "4                                                                                                                                                                                                       ::SCOPE:Confidentiality:SCOPE:Access Control:SCOPE:AuthorizationTECHNICAL IMPACT:Gain Privileges::SCOPE:IntegrityTECHNICAL IMPACT:Modify Data::SCOPE:ConfidentialityTECHNICAL IMPACT:Read Data::SCOPE:AvailabilityTECHNICAL IMPACT:Unreliable Execution::   \n",
      "\n",
      "                                                                                                                                                                                                                                                                                                                                                                                                                                                                                                                                                                                                                                                                             Mitigations  \\\n",
      "0  ::In a J2EE setting, administrators can associate a role that is impossible for the authenticator to grant users, such as NoAccess, with all Servlets to which access is guarded by a limited number of servlets visible to, and accessible by, the user. Having done so, any direct access to those protected Servlets will be prohibited by the web container. In a more general setting, the administrator must mark every resource besides the ones supposed to be exposed to the user as accessible by a role impossible for the user to assume. The default security setting must be to deny access and then grant access only to those resources intended by business logic.::   \n",
      "1                                                                                                                                                                                                                                                    ::Do not expose environment variable to the user.::Do not use untrusted data in your environment variables.::Use a language or compiler that performs automatic bounds checking::There are tools such as Sharefuzz [R.10.3] which is an environment variable fuzzer for Unix that support loading a shared library. You can use Sharefuzz to determine if you are exposing an environment variable vulnerable to buffer overflow.::   \n",
      "2                                                                                            ::Use a language or compiler that performs automatic bounds checking.::Use secure functions not vulnerable to buffer overflow.::If you have to use dangerous functions, make sure that you do boundary checking.::Compiler-based canary mechanisms such as StackGuard, ProPolice and the Microsoft Visual Studio /GS flag. Unless this provides automatic bounds checking, it is not a complete solution.::Use OS-level preventative functionality. Not a complete solution.::Utilize static source code analysis tools to identify potential buffer overflow weaknesses in the software.::   \n",
      "3                                                                   ::Set the OPTIONS IncludesNOEXEC in the global access.conf file or local .htaccess (Apache) file to deny SSI execution in directories that do not need them::All user controllable input must be appropriately sanitized before use in the application. This includes omitting, or encoding, certain characters or strings that have the potential of being interpreted as part of an SSI directive::Server Side Includes must be enabled only if there is a strong business reason to do so. Every additional component enabled on the web server increases the attack surface as well as administrative overhead::   \n",
      "4                                                                                                                                                                                                                                                               ::Make sure that HTTPS is used to communicate with the target system. Alternatively, use VPN if possible. It is important to ensure that all communication between the client and the server happens via an encrypted secure channel.::Modify the session token with each transmission and protect it with cryptography. Add the idea of request sequencing that gives the server an ability to detect replay attacks.::   \n",
      "\n",
      "                                                                                                                                                                                                                                                                                                                                                                                                                                                                                                                                                                                                                                                                                                                                                                                                                                                                                                                                                                                                               Example Instances  \\\n",
      "0                                                                                                                                                                                                                                                                                                                                                                                                                                                                                                                                                                                                                                              ::Implementing the Model-View-Controller (MVC) within Java EE's Servlet paradigm using a Single front controller pattern that demands that brokered HTTP requests be authenticated before hand-offs to other Action Servlets. If no security-constraint is placed on those Action Servlets, such that positively no one can access them, the front controller can be subverted.::   \n",
      "1                                                                                                                                                                                                                                                                                                                                                                                                                                                                                                                                                                                                                                                                                ::Attack Example: Buffer Overflow in $HOME A buffer overflow in sccw allows local users to gain root access via the $HOME environmental variable.See also: CVE-1999-0906::Attack Example: Buffer Overflow in TERM A buffer overflow in the rlogin program involves its consumption of the TERM environmental variable.See also: CVE-1999-0046::   \n",
      "2                                                                                                                                                                                           ::The most straightforward example is an application that reads in input from the user and stores it in an internal buffer but does not check that the size of the input data is less than or equal to the size of the buffer. If the user enters excessive length data, the buffer may overflow leading to the application crashing, or worse, enabling the user to cause execution of injected code.::Many web servers enforce security in web applications through the use of filter plugins. An example is the SiteMinder plugin used for authentication. An overflow in such a plugin, possibly through a long URL or redirect parameter, can allow an adversary not only to bypass the security checks but also execute arbitrary code on the target web server in the context of the user that runs the web server process.::   \n",
      "3                                                                                                                                                                                                                                                                                                                                                                                                                                                                                                         ::Consider a website hosted on a server that permits Server Side Includes (SSI), such as Apache with the Options Includes directive enabled. Whenever an error occurs, the HTTP Headers along with the entire request are logged, which can then be displayed on a page that allows review of such errors. A malicious user can inject SSI directives in the HTTP Headers of a request designed to create an error. When these logs are eventually reviewed, the server parses the SSI directives and executes them.::   \n",
      "4  ::The attacker and the victim are using the same WiFi public hotspot. When the victim connects to the hotspot, he has a hosted e-mail account open. This e-mail account uses AJAX on the client side which periodically asynchronously connects to the server side and transfers, amongst other things, the user's session token to the server. The communication is supposed to happen over HTTPS. However, the configuration in the public hotspot initially disallows the HTTPS connection (or any other connection) between the victim and the hosted e-mail servers because the victim first needs to register with the hotspot. The victim does so, but his e-mail client already defaulted to using a connection without HTTPS, since it was denied access the first time. Victim's session token is now flowing unencrypted between the victim's browser and the hosted e-mail servers. The attacker leverages this opportunity to capture the session token and gain access to the victim's hosted e-mail account.::   \n",
      "\n",
      "                                  Related Weaknesses  \\\n",
      "0                   ::285::732::276::693::721::434::   \n",
      "1  ::120::302::118::119::74::99::20::680::733::697::   \n",
      "2               ::120::119::131::129::805::19::680::   \n",
      "3                                ::97::74::20::713::   \n",
      "4                        ::294::522::523::319::614::   \n",
      "\n",
      "                                                                  Taxonomy Mappings  \\\n",
      "0  TAXONOMY NAME:ATTACK:ENTRY ID:1044:ENTRY NAME:File System Permissions Weakness::   \n",
      "1                                                                               NaN   \n",
      "2                                                                               NaN   \n",
      "3                                                                               NaN   \n",
      "4                                                                               NaN   \n",
      "\n",
      "  Notes  \n",
      "0   NaN  \n",
      "1   NaN  \n",
      "2   NaN  \n",
      "3   NaN  \n",
      "4   NaN  \n"
     ]
    }
   ],
   "source": [
    "print(df.head())"
   ]
  },
  {
   "cell_type": "code",
   "execution_count": 8,
   "id": "b1c049fe",
   "metadata": {},
   "outputs": [],
   "source": [
    "host = 'bolt://localhost:7687'\n",
    "user = 'neo4j'\n",
    "password = '1234abcd'"
   ]
  },
  {
   "cell_type": "code",
   "execution_count": 9,
   "id": "ad4aa35e",
   "metadata": {},
   "outputs": [],
   "source": [
    "NEO4J_URI = os.environ.get(\"NEO4J_URI\", \"bolt://localhost:7687\")\n",
    "\n",
    "NEO4J_AUTH = ( \"neo4j\",  \"1234abcd\")"
   ]
  },
  {
   "cell_type": "code",
   "execution_count": 10,
   "id": "632b16e0",
   "metadata": {},
   "outputs": [],
   "source": [
    "driver = GraphDatabase.driver(host, auth = (user, password))"
   ]
  },
  {
   "cell_type": "code",
   "execution_count": 11,
   "id": "5d7c2ce2",
   "metadata": {},
   "outputs": [],
   "source": [
    "gds = GraphDataScience(NEO4J_URI, auth = NEO4J_AUTH)"
   ]
  },
  {
   "cell_type": "code",
   "execution_count": 12,
   "id": "208a633e",
   "metadata": {},
   "outputs": [],
   "source": [
    "cyberAttackNames = df['Name'].unique().tolist()"
   ]
  },
  {
   "cell_type": "code",
   "execution_count": 13,
   "id": "b9c65569",
   "metadata": {},
   "outputs": [
    {
     "name": "stdout",
     "output_type": "stream",
     "text": [
      "['Accessing Functionality Not Properly Constrained by ACLs', 'Buffer Overflow via Environment Variables', 'Overflow Buffers', 'Server Side Include (SSI) Injection', 'Session Sidejacking']\n"
     ]
    }
   ],
   "source": [
    "print(cyberAttackNames[:5])"
   ]
  },
  {
   "cell_type": "code",
   "execution_count": 14,
   "id": "cfd30733",
   "metadata": {},
   "outputs": [],
   "source": [
    "attackData = df.to_dict(orient='records')"
   ]
  },
  {
   "cell_type": "code",
   "execution_count": 16,
   "id": "8f06bd63",
   "metadata": {},
   "outputs": [
    {
     "ename": "BufferError",
     "evalue": "Existing exports of data: object cannot be re-sized",
     "output_type": "error",
     "traceback": [
      "\u001b[1;31m---------------------------------------------------------------------------\u001b[0m",
      "\u001b[1;31mKeyboardInterrupt\u001b[0m                         Traceback (most recent call last)",
      "File \u001b[1;32mZ:\\Anaconda3\\envs\\cs518graph\\Lib\\site-packages\\graphdatascience\\query_runner\\neo4j_query_runner.py:70\u001b[0m, in \u001b[0;36mNeo4jQueryRunner.run_query\u001b[1;34m(self, query, params, database, custom_error)\u001b[0m\n\u001b[0;32m     65\u001b[0m warnings\u001b[38;5;241m.\u001b[39mfilterwarnings(\n\u001b[0;32m     66\u001b[0m     \u001b[38;5;124m\"\u001b[39m\u001b[38;5;124mignore\u001b[39m\u001b[38;5;124m\"\u001b[39m,\n\u001b[0;32m     67\u001b[0m     message\u001b[38;5;241m=\u001b[39m\u001b[38;5;124mr\u001b[39m\u001b[38;5;124m\"\u001b[39m\u001b[38;5;124m^pandas support is experimental and might be changed or removed in future versions$\u001b[39m\u001b[38;5;124m\"\u001b[39m,\n\u001b[0;32m     68\u001b[0m )\n\u001b[1;32m---> 70\u001b[0m df \u001b[38;5;241m=\u001b[39m result\u001b[38;5;241m.\u001b[39mto_df()\n\u001b[0;32m     72\u001b[0m \u001b[38;5;28;01mif\u001b[39;00m \u001b[38;5;28mself\u001b[39m\u001b[38;5;241m.\u001b[39m_NEO4J_DRIVER_VERSION \u001b[38;5;241m<\u001b[39m ServerVersion(\u001b[38;5;241m5\u001b[39m, \u001b[38;5;241m0\u001b[39m, \u001b[38;5;241m0\u001b[39m):\n",
      "File \u001b[1;32mZ:\\Anaconda3\\envs\\cs518graph\\Lib\\site-packages\\neo4j\\_sync\\work\\result.py:748\u001b[0m, in \u001b[0;36mResult.to_df\u001b[1;34m(self, expand, parse_dates)\u001b[0m\n\u001b[0;32m    747\u001b[0m \u001b[38;5;28;01mif\u001b[39;00m \u001b[38;5;129;01mnot\u001b[39;00m expand:\n\u001b[1;32m--> 748\u001b[0m     df \u001b[38;5;241m=\u001b[39m pd\u001b[38;5;241m.\u001b[39mDataFrame(\u001b[38;5;28mself\u001b[39m\u001b[38;5;241m.\u001b[39mvalues(), columns\u001b[38;5;241m=\u001b[39m\u001b[38;5;28mself\u001b[39m\u001b[38;5;241m.\u001b[39m_keys)\n\u001b[0;32m    749\u001b[0m \u001b[38;5;28;01melse\u001b[39;00m:\n",
      "File \u001b[1;32mZ:\\Anaconda3\\envs\\cs518graph\\Lib\\site-packages\\neo4j\\_sync\\work\\result.py:603\u001b[0m, in \u001b[0;36mResult.values\u001b[1;34m(self, *keys)\u001b[0m\n\u001b[0;32m    588\u001b[0m \u001b[38;5;250m\u001b[39m\u001b[38;5;124;03m\"\"\"Return the remainder of the result as a list of values lists.\u001b[39;00m\n\u001b[0;32m    589\u001b[0m \n\u001b[0;32m    590\u001b[0m \u001b[38;5;124;03m:param keys: fields to return for each remaining record. Optionally filtering to include only certain values by index or key.\u001b[39;00m\n\u001b[1;32m   (...)\u001b[0m\n\u001b[0;32m    601\u001b[0m \u001b[38;5;124;03m.. seealso:: :meth:`.Record.values`\u001b[39;00m\n\u001b[0;32m    602\u001b[0m \u001b[38;5;124;03m\"\"\"\u001b[39;00m\n\u001b[1;32m--> 603\u001b[0m \u001b[38;5;28;01mreturn\u001b[39;00m [record\u001b[38;5;241m.\u001b[39mvalues(\u001b[38;5;241m*\u001b[39mkeys) \u001b[38;5;28;01mfor\u001b[39;00m record \u001b[38;5;129;01min\u001b[39;00m \u001b[38;5;28mself\u001b[39m]\n",
      "File \u001b[1;32mZ:\\Anaconda3\\envs\\cs518graph\\Lib\\site-packages\\neo4j\\_sync\\work\\result.py:603\u001b[0m, in \u001b[0;36m<listcomp>\u001b[1;34m(.0)\u001b[0m\n\u001b[0;32m    588\u001b[0m \u001b[38;5;250m\u001b[39m\u001b[38;5;124;03m\"\"\"Return the remainder of the result as a list of values lists.\u001b[39;00m\n\u001b[0;32m    589\u001b[0m \n\u001b[0;32m    590\u001b[0m \u001b[38;5;124;03m:param keys: fields to return for each remaining record. Optionally filtering to include only certain values by index or key.\u001b[39;00m\n\u001b[1;32m   (...)\u001b[0m\n\u001b[0;32m    601\u001b[0m \u001b[38;5;124;03m.. seealso:: :meth:`.Record.values`\u001b[39;00m\n\u001b[0;32m    602\u001b[0m \u001b[38;5;124;03m\"\"\"\u001b[39;00m\n\u001b[1;32m--> 603\u001b[0m \u001b[38;5;28;01mreturn\u001b[39;00m [record\u001b[38;5;241m.\u001b[39mvalues(\u001b[38;5;241m*\u001b[39mkeys) \u001b[38;5;28;01mfor\u001b[39;00m record \u001b[38;5;129;01min\u001b[39;00m \u001b[38;5;28mself\u001b[39m]\n",
      "File \u001b[1;32mZ:\\Anaconda3\\envs\\cs518graph\\Lib\\site-packages\\neo4j\\_sync\\work\\result.py:266\u001b[0m, in \u001b[0;36mResult.__iter__\u001b[1;34m(self)\u001b[0m\n\u001b[0;32m    265\u001b[0m \u001b[38;5;28;01melif\u001b[39;00m \u001b[38;5;28mself\u001b[39m\u001b[38;5;241m.\u001b[39m_streaming:\n\u001b[1;32m--> 266\u001b[0m     \u001b[38;5;28mself\u001b[39m\u001b[38;5;241m.\u001b[39m_connection\u001b[38;5;241m.\u001b[39mfetch_message()\n\u001b[0;32m    267\u001b[0m \u001b[38;5;28;01melif\u001b[39;00m \u001b[38;5;28mself\u001b[39m\u001b[38;5;241m.\u001b[39m_discarding:\n",
      "File \u001b[1;32mZ:\\Anaconda3\\envs\\cs518graph\\Lib\\site-packages\\neo4j\\_sync\\io\\_common.py:180\u001b[0m, in \u001b[0;36mConnectionErrorHandler.__getattr__.<locals>.outer.<locals>.inner\u001b[1;34m(*args, **kwargs)\u001b[0m\n\u001b[0;32m    179\u001b[0m \u001b[38;5;28;01mtry\u001b[39;00m:\n\u001b[1;32m--> 180\u001b[0m     func(\u001b[38;5;241m*\u001b[39margs, \u001b[38;5;241m*\u001b[39m\u001b[38;5;241m*\u001b[39mkwargs)\n\u001b[0;32m    181\u001b[0m \u001b[38;5;28;01mexcept\u001b[39;00m (Neo4jError, ServiceUnavailable, SessionExpired) \u001b[38;5;28;01mas\u001b[39;00m exc:\n",
      "File \u001b[1;32mZ:\\Anaconda3\\envs\\cs518graph\\Lib\\site-packages\\neo4j\\_sync\\io\\_bolt.py:848\u001b[0m, in \u001b[0;36mBolt.fetch_message\u001b[1;34m(self)\u001b[0m\n\u001b[0;32m    847\u001b[0m \u001b[38;5;66;03m# Receive exactly one message\u001b[39;00m\n\u001b[1;32m--> 848\u001b[0m tag, fields \u001b[38;5;241m=\u001b[39m \u001b[38;5;28mself\u001b[39m\u001b[38;5;241m.\u001b[39minbox\u001b[38;5;241m.\u001b[39mpop(\n\u001b[0;32m    849\u001b[0m     hydration_hooks\u001b[38;5;241m=\u001b[39m\u001b[38;5;28mself\u001b[39m\u001b[38;5;241m.\u001b[39mresponses[\u001b[38;5;241m0\u001b[39m]\u001b[38;5;241m.\u001b[39mhydration_hooks\n\u001b[0;32m    850\u001b[0m )\n\u001b[0;32m    851\u001b[0m res \u001b[38;5;241m=\u001b[39m \u001b[38;5;28mself\u001b[39m\u001b[38;5;241m.\u001b[39m_process_message(tag, fields)\n",
      "File \u001b[1;32mZ:\\Anaconda3\\envs\\cs518graph\\Lib\\site-packages\\neo4j\\_sync\\io\\_common.py:74\u001b[0m, in \u001b[0;36mInbox.pop\u001b[1;34m(self, hydration_hooks)\u001b[0m\n\u001b[0;32m     73\u001b[0m \u001b[38;5;28;01mdef\u001b[39;00m \u001b[38;5;21mpop\u001b[39m(\u001b[38;5;28mself\u001b[39m, hydration_hooks):\n\u001b[1;32m---> 74\u001b[0m     \u001b[38;5;28mself\u001b[39m\u001b[38;5;241m.\u001b[39m_buffer_one_chunk()\n\u001b[0;32m     75\u001b[0m     \u001b[38;5;28;01mtry\u001b[39;00m:\n",
      "File \u001b[1;32mZ:\\Anaconda3\\envs\\cs518graph\\Lib\\site-packages\\neo4j\\_sync\\io\\_common.py:53\u001b[0m, in \u001b[0;36mInbox._buffer_one_chunk\u001b[1;34m(self)\u001b[0m\n\u001b[0;32m     51\u001b[0m \u001b[38;5;28;01mwhile\u001b[39;00m chunk_size \u001b[38;5;241m==\u001b[39m \u001b[38;5;241m0\u001b[39m:\n\u001b[0;32m     52\u001b[0m     \u001b[38;5;66;03m# Determine the chunk size and skip noop\u001b[39;00m\n\u001b[1;32m---> 53\u001b[0m     receive_into_buffer(\u001b[38;5;28mself\u001b[39m\u001b[38;5;241m.\u001b[39m_socket, \u001b[38;5;28mself\u001b[39m\u001b[38;5;241m.\u001b[39m_buffer, \u001b[38;5;241m2\u001b[39m)\n\u001b[0;32m     54\u001b[0m     chunk_size \u001b[38;5;241m=\u001b[39m \u001b[38;5;28mself\u001b[39m\u001b[38;5;241m.\u001b[39m_buffer\u001b[38;5;241m.\u001b[39mpop_u16()\n",
      "File \u001b[1;32mZ:\\Anaconda3\\envs\\cs518graph\\Lib\\site-packages\\neo4j\\_sync\\io\\_common.py:308\u001b[0m, in \u001b[0;36mreceive_into_buffer\u001b[1;34m(sock, buffer, n_bytes)\u001b[0m\n\u001b[0;32m    307\u001b[0m \u001b[38;5;28;01mwhile\u001b[39;00m buffer\u001b[38;5;241m.\u001b[39mused \u001b[38;5;241m<\u001b[39m end:\n\u001b[1;32m--> 308\u001b[0m     n \u001b[38;5;241m=\u001b[39m sock\u001b[38;5;241m.\u001b[39mrecv_into(view[buffer\u001b[38;5;241m.\u001b[39mused:end], end \u001b[38;5;241m-\u001b[39m buffer\u001b[38;5;241m.\u001b[39mused)\n\u001b[0;32m    309\u001b[0m     \u001b[38;5;28;01mif\u001b[39;00m n \u001b[38;5;241m==\u001b[39m \u001b[38;5;241m0\u001b[39m:\n",
      "File \u001b[1;32mZ:\\Anaconda3\\envs\\cs518graph\\Lib\\site-packages\\neo4j\\_async_compat\\network\\_bolt_socket.py:488\u001b[0m, in \u001b[0;36mBoltSocket.recv_into\u001b[1;34m(self, buffer, nbytes)\u001b[0m\n\u001b[0;32m    487\u001b[0m \u001b[38;5;28;01mdef\u001b[39;00m \u001b[38;5;21mrecv_into\u001b[39m(\u001b[38;5;28mself\u001b[39m, buffer, nbytes):\n\u001b[1;32m--> 488\u001b[0m     \u001b[38;5;28;01mreturn\u001b[39;00m \u001b[38;5;28mself\u001b[39m\u001b[38;5;241m.\u001b[39m_wait_for_io(\u001b[38;5;28mself\u001b[39m\u001b[38;5;241m.\u001b[39m_socket\u001b[38;5;241m.\u001b[39mrecv_into, buffer, nbytes)\n",
      "File \u001b[1;32mZ:\\Anaconda3\\envs\\cs518graph\\Lib\\site-packages\\neo4j\\_async_compat\\network\\_bolt_socket.py:463\u001b[0m, in \u001b[0;36mBoltSocket._wait_for_io\u001b[1;34m(self, func, *args, **kwargs)\u001b[0m\n\u001b[0;32m    462\u001b[0m \u001b[38;5;28;01mif\u001b[39;00m \u001b[38;5;28mself\u001b[39m\u001b[38;5;241m.\u001b[39m_deadline \u001b[38;5;129;01mis\u001b[39;00m \u001b[38;5;28;01mNone\u001b[39;00m:\n\u001b[1;32m--> 463\u001b[0m     \u001b[38;5;28;01mreturn\u001b[39;00m func(\u001b[38;5;241m*\u001b[39margs, \u001b[38;5;241m*\u001b[39m\u001b[38;5;241m*\u001b[39mkwargs)\n\u001b[0;32m    464\u001b[0m timeout \u001b[38;5;241m=\u001b[39m \u001b[38;5;28mself\u001b[39m\u001b[38;5;241m.\u001b[39m_socket\u001b[38;5;241m.\u001b[39mgettimeout()\n",
      "\u001b[1;31mKeyboardInterrupt\u001b[0m: ",
      "\nDuring handling of the above exception, another exception occurred:\n",
      "\u001b[1;31mBufferError\u001b[0m                               Traceback (most recent call last)",
      "File \u001b[1;32mZ:\\Anaconda3\\envs\\cs518graph\\Lib\\site-packages\\neo4j\\_sync\\work\\session.py:213\u001b[0m, in \u001b[0;36mSession.close\u001b[1;34m(self)\u001b[0m\n\u001b[0;32m    212\u001b[0m \u001b[38;5;28mself\u001b[39m\u001b[38;5;241m.\u001b[39m_connection\u001b[38;5;241m.\u001b[39msend_all()\n\u001b[1;32m--> 213\u001b[0m \u001b[38;5;28mself\u001b[39m\u001b[38;5;241m.\u001b[39m_connection\u001b[38;5;241m.\u001b[39mfetch_all()\n\u001b[0;32m    214\u001b[0m \u001b[38;5;66;03m# TODO: Investigate potential non graceful close states\u001b[39;00m\n",
      "File \u001b[1;32mZ:\\Anaconda3\\envs\\cs518graph\\Lib\\site-packages\\neo4j\\_sync\\io\\_bolt.py:865\u001b[0m, in \u001b[0;36mBolt.fetch_all\u001b[1;34m(self)\u001b[0m\n\u001b[0;32m    864\u001b[0m \u001b[38;5;28;01mwhile\u001b[39;00m \u001b[38;5;129;01mnot\u001b[39;00m response\u001b[38;5;241m.\u001b[39mcomplete:\n\u001b[1;32m--> 865\u001b[0m     detail_delta, summary_delta \u001b[38;5;241m=\u001b[39m \u001b[38;5;28mself\u001b[39m\u001b[38;5;241m.\u001b[39mfetch_message()\n\u001b[0;32m    866\u001b[0m     detail_count \u001b[38;5;241m+\u001b[39m\u001b[38;5;241m=\u001b[39m detail_delta\n",
      "File \u001b[1;32mZ:\\Anaconda3\\envs\\cs518graph\\Lib\\site-packages\\neo4j\\_sync\\io\\_bolt.py:848\u001b[0m, in \u001b[0;36mBolt.fetch_message\u001b[1;34m(self)\u001b[0m\n\u001b[0;32m    847\u001b[0m \u001b[38;5;66;03m# Receive exactly one message\u001b[39;00m\n\u001b[1;32m--> 848\u001b[0m tag, fields \u001b[38;5;241m=\u001b[39m \u001b[38;5;28mself\u001b[39m\u001b[38;5;241m.\u001b[39minbox\u001b[38;5;241m.\u001b[39mpop(\n\u001b[0;32m    849\u001b[0m     hydration_hooks\u001b[38;5;241m=\u001b[39m\u001b[38;5;28mself\u001b[39m\u001b[38;5;241m.\u001b[39mresponses[\u001b[38;5;241m0\u001b[39m]\u001b[38;5;241m.\u001b[39mhydration_hooks\n\u001b[0;32m    850\u001b[0m )\n\u001b[0;32m    851\u001b[0m res \u001b[38;5;241m=\u001b[39m \u001b[38;5;28mself\u001b[39m\u001b[38;5;241m.\u001b[39m_process_message(tag, fields)\n",
      "File \u001b[1;32mZ:\\Anaconda3\\envs\\cs518graph\\Lib\\site-packages\\neo4j\\_sync\\io\\_common.py:74\u001b[0m, in \u001b[0;36mInbox.pop\u001b[1;34m(self, hydration_hooks)\u001b[0m\n\u001b[0;32m     73\u001b[0m \u001b[38;5;28;01mdef\u001b[39;00m \u001b[38;5;21mpop\u001b[39m(\u001b[38;5;28mself\u001b[39m, hydration_hooks):\n\u001b[1;32m---> 74\u001b[0m     \u001b[38;5;28mself\u001b[39m\u001b[38;5;241m.\u001b[39m_buffer_one_chunk()\n\u001b[0;32m     75\u001b[0m     \u001b[38;5;28;01mtry\u001b[39;00m:\n",
      "File \u001b[1;32mZ:\\Anaconda3\\envs\\cs518graph\\Lib\\site-packages\\neo4j\\_sync\\io\\_common.py:58\u001b[0m, in \u001b[0;36mInbox._buffer_one_chunk\u001b[1;34m(self)\u001b[0m\n\u001b[0;32m     56\u001b[0m         log\u001b[38;5;241m.\u001b[39mdebug(\u001b[38;5;124m\"\u001b[39m\u001b[38;5;124m[#\u001b[39m\u001b[38;5;132;01m%04X\u001b[39;00m\u001b[38;5;124m]  S: <NOOP>\u001b[39m\u001b[38;5;124m\"\u001b[39m, \u001b[38;5;28mself\u001b[39m\u001b[38;5;241m.\u001b[39m_local_port)\n\u001b[1;32m---> 58\u001b[0m receive_into_buffer(\n\u001b[0;32m     59\u001b[0m     \u001b[38;5;28mself\u001b[39m\u001b[38;5;241m.\u001b[39m_socket, \u001b[38;5;28mself\u001b[39m\u001b[38;5;241m.\u001b[39m_buffer, chunk_size \u001b[38;5;241m+\u001b[39m \u001b[38;5;241m2\u001b[39m\n\u001b[0;32m     60\u001b[0m )\n\u001b[0;32m     61\u001b[0m chunk_size \u001b[38;5;241m=\u001b[39m \u001b[38;5;28mself\u001b[39m\u001b[38;5;241m.\u001b[39m_buffer\u001b[38;5;241m.\u001b[39mpop_u16()\n",
      "File \u001b[1;32mZ:\\Anaconda3\\envs\\cs518graph\\Lib\\site-packages\\neo4j\\_sync\\io\\_common.py:305\u001b[0m, in \u001b[0;36mreceive_into_buffer\u001b[1;34m(sock, buffer, n_bytes)\u001b[0m\n\u001b[0;32m    304\u001b[0m \u001b[38;5;28;01mif\u001b[39;00m end \u001b[38;5;241m>\u001b[39m \u001b[38;5;28mlen\u001b[39m(buffer\u001b[38;5;241m.\u001b[39mdata):\n\u001b[1;32m--> 305\u001b[0m     buffer\u001b[38;5;241m.\u001b[39mdata \u001b[38;5;241m+\u001b[39m\u001b[38;5;241m=\u001b[39m \u001b[38;5;28mbytearray\u001b[39m(end \u001b[38;5;241m-\u001b[39m \u001b[38;5;28mlen\u001b[39m(buffer\u001b[38;5;241m.\u001b[39mdata))\n\u001b[0;32m    306\u001b[0m \u001b[38;5;28;01mwith\u001b[39;00m \u001b[38;5;28mmemoryview\u001b[39m(buffer\u001b[38;5;241m.\u001b[39mdata) \u001b[38;5;28;01mas\u001b[39;00m view:\n",
      "\u001b[1;31mBufferError\u001b[0m: Existing exports of data: object cannot be re-sized",
      "\nDuring handling of the above exception, another exception occurred:\n",
      "\u001b[1;31mBufferError\u001b[0m                               Traceback (most recent call last)",
      "Cell \u001b[1;32mIn[16], line 1\u001b[0m\n\u001b[1;32m----> 1\u001b[0m gds\u001b[38;5;241m.\u001b[39mrun_cypher(\u001b[38;5;124m\"\"\"\u001b[39m\n\u001b[0;32m      2\u001b[0m \u001b[38;5;124mCALL apoc.periodic.iterate(\u001b[39m\n\u001b[0;32m      3\u001b[0m \u001b[38;5;124m  \u001b[39m\u001b[38;5;124m'\u001b[39m\u001b[38;5;124mMATCH (n) RETURN n\u001b[39m\u001b[38;5;124m'\u001b[39m\u001b[38;5;124m,\u001b[39m\n\u001b[0;32m      4\u001b[0m \u001b[38;5;124m  \u001b[39m\u001b[38;5;124m'\u001b[39m\u001b[38;5;124mDETACH DELETE n\u001b[39m\u001b[38;5;124m'\u001b[39m\u001b[38;5;124m,\u001b[39m\n\u001b[0;32m      5\u001b[0m \u001b[38;5;124m  \u001b[39m\u001b[38;5;124m{\u001b[39m\u001b[38;5;124mbatchSize:100, parallel:false}\u001b[39m\n\u001b[0;32m      6\u001b[0m \u001b[38;5;124m)\u001b[39m\n\u001b[0;32m      7\u001b[0m \u001b[38;5;124m\"\"\"\u001b[39m)\n",
      "File \u001b[1;32mZ:\\Anaconda3\\envs\\cs518graph\\Lib\\site-packages\\graphdatascience\\graph_data_science.py:233\u001b[0m, in \u001b[0;36mGraphDataScience.run_cypher\u001b[1;34m(self, query, params, database)\u001b[0m\n\u001b[0;32m    230\u001b[0m \u001b[38;5;28;01mif\u001b[39;00m \u001b[38;5;28misinstance\u001b[39m(\u001b[38;5;28mself\u001b[39m\u001b[38;5;241m.\u001b[39m_query_runner, ArrowQueryRunner):\n\u001b[0;32m    231\u001b[0m     qr \u001b[38;5;241m=\u001b[39m \u001b[38;5;28mself\u001b[39m\u001b[38;5;241m.\u001b[39m_query_runner\u001b[38;5;241m.\u001b[39mfallback_query_runner()\n\u001b[1;32m--> 233\u001b[0m \u001b[38;5;28;01mreturn\u001b[39;00m qr\u001b[38;5;241m.\u001b[39mrun_query(query, params, database, \u001b[38;5;28;01mFalse\u001b[39;00m)\n",
      "File \u001b[1;32mZ:\\Anaconda3\\envs\\cs518graph\\Lib\\site-packages\\graphdatascience\\query_runner\\neo4j_query_runner.py:54\u001b[0m, in \u001b[0;36mNeo4jQueryRunner.run_query\u001b[1;34m(self, query, params, database, custom_error)\u001b[0m\n\u001b[0;32m     50\u001b[0m     database \u001b[38;5;241m=\u001b[39m \u001b[38;5;28mself\u001b[39m\u001b[38;5;241m.\u001b[39m_database\n\u001b[0;32m     52\u001b[0m \u001b[38;5;28mself\u001b[39m\u001b[38;5;241m.\u001b[39m_verify_connectivity()\n\u001b[1;32m---> 54\u001b[0m \u001b[38;5;28;01mwith\u001b[39;00m \u001b[38;5;28mself\u001b[39m\u001b[38;5;241m.\u001b[39m_driver\u001b[38;5;241m.\u001b[39msession(database\u001b[38;5;241m=\u001b[39mdatabase, bookmarks\u001b[38;5;241m=\u001b[39m\u001b[38;5;28mself\u001b[39m\u001b[38;5;241m.\u001b[39mbookmarks()) \u001b[38;5;28;01mas\u001b[39;00m session:\n\u001b[0;32m     55\u001b[0m     \u001b[38;5;28;01mtry\u001b[39;00m:\n\u001b[0;32m     56\u001b[0m         result \u001b[38;5;241m=\u001b[39m session\u001b[38;5;241m.\u001b[39mrun(query, params)\n",
      "File \u001b[1;32mZ:\\Anaconda3\\envs\\cs518graph\\Lib\\site-packages\\neo4j\\_sync\\work\\session.py:125\u001b[0m, in \u001b[0;36mSession.__exit__\u001b[1;34m(self, exception_type, exception_value, traceback)\u001b[0m\n\u001b[0;32m    123\u001b[0m         \u001b[38;5;28;01mreturn\u001b[39;00m\n\u001b[0;32m    124\u001b[0m     \u001b[38;5;28mself\u001b[39m\u001b[38;5;241m.\u001b[39m_state_failed \u001b[38;5;241m=\u001b[39m \u001b[38;5;28;01mTrue\u001b[39;00m\n\u001b[1;32m--> 125\u001b[0m \u001b[38;5;28mself\u001b[39m\u001b[38;5;241m.\u001b[39mclose()\n",
      "File \u001b[1;32mZ:\\Anaconda3\\envs\\cs518graph\\Lib\\site-packages\\neo4j\\_sync\\work\\session.py:224\u001b[0m, in \u001b[0;36mSession.close\u001b[1;34m(self)\u001b[0m\n\u001b[0;32m    222\u001b[0m         \u001b[38;5;28;01mpass\u001b[39;00m\n\u001b[0;32m    223\u001b[0m     \u001b[38;5;28;01mfinally\u001b[39;00m:\n\u001b[1;32m--> 224\u001b[0m         \u001b[38;5;28mself\u001b[39m\u001b[38;5;241m.\u001b[39m_disconnect()\n\u001b[0;32m    226\u001b[0m     \u001b[38;5;28mself\u001b[39m\u001b[38;5;241m.\u001b[39m_state_failed \u001b[38;5;241m=\u001b[39m \u001b[38;5;28;01mFalse\u001b[39;00m\n\u001b[0;32m    227\u001b[0m \u001b[38;5;28mself\u001b[39m\u001b[38;5;241m.\u001b[39m_closed \u001b[38;5;241m=\u001b[39m \u001b[38;5;28;01mTrue\u001b[39;00m\n",
      "File \u001b[1;32mZ:\\Anaconda3\\envs\\cs518graph\\Lib\\site-packages\\neo4j\\_sync\\work\\session.py:140\u001b[0m, in \u001b[0;36mSession._disconnect\u001b[1;34m(self, sync)\u001b[0m\n\u001b[0;32m    138\u001b[0m \u001b[38;5;28;01mdef\u001b[39;00m \u001b[38;5;21m_disconnect\u001b[39m(\u001b[38;5;28mself\u001b[39m, sync\u001b[38;5;241m=\u001b[39m\u001b[38;5;28;01mFalse\u001b[39;00m):\n\u001b[0;32m    139\u001b[0m     \u001b[38;5;28;01mtry\u001b[39;00m:\n\u001b[1;32m--> 140\u001b[0m         \u001b[38;5;28;01mreturn\u001b[39;00m \u001b[38;5;28msuper\u001b[39m()\u001b[38;5;241m.\u001b[39m_disconnect(sync\u001b[38;5;241m=\u001b[39msync)\n\u001b[0;32m    141\u001b[0m     \u001b[38;5;28;01mexcept\u001b[39;00m asyncio\u001b[38;5;241m.\u001b[39mCancelledError:\n\u001b[0;32m    142\u001b[0m         \u001b[38;5;28mself\u001b[39m\u001b[38;5;241m.\u001b[39m_handle_cancellation(message\u001b[38;5;241m=\u001b[39m\u001b[38;5;124m\"\u001b[39m\u001b[38;5;124m_disconnect\u001b[39m\u001b[38;5;124m\"\u001b[39m)\n",
      "File \u001b[1;32mZ:\\Anaconda3\\envs\\cs518graph\\Lib\\site-packages\\neo4j\\_sync\\work\\workspace.py:190\u001b[0m, in \u001b[0;36mWorkspace._disconnect\u001b[1;34m(self, sync)\u001b[0m\n\u001b[0;32m    188\u001b[0m         \u001b[38;5;28;01mpass\u001b[39;00m\n\u001b[0;32m    189\u001b[0m \u001b[38;5;28;01mif\u001b[39;00m \u001b[38;5;28mself\u001b[39m\u001b[38;5;241m.\u001b[39m_connection:\n\u001b[1;32m--> 190\u001b[0m     \u001b[38;5;28mself\u001b[39m\u001b[38;5;241m.\u001b[39m_pool\u001b[38;5;241m.\u001b[39mrelease(\u001b[38;5;28mself\u001b[39m\u001b[38;5;241m.\u001b[39m_connection)\n\u001b[0;32m    191\u001b[0m     \u001b[38;5;28mself\u001b[39m\u001b[38;5;241m.\u001b[39m_connection \u001b[38;5;241m=\u001b[39m \u001b[38;5;28;01mNone\u001b[39;00m\n\u001b[0;32m    192\u001b[0m \u001b[38;5;28mself\u001b[39m\u001b[38;5;241m.\u001b[39m_connection_access_mode \u001b[38;5;241m=\u001b[39m \u001b[38;5;28;01mNone\u001b[39;00m\n",
      "File \u001b[1;32mZ:\\Anaconda3\\envs\\cs518graph\\Lib\\site-packages\\neo4j\\_sync\\io\\_pool.py:374\u001b[0m, in \u001b[0;36mIOPool.release\u001b[1;34m(self, *connections)\u001b[0m\n\u001b[0;32m    369\u001b[0m \u001b[38;5;28;01mtry\u001b[39;00m:\n\u001b[0;32m    370\u001b[0m     log\u001b[38;5;241m.\u001b[39mdebug(\n\u001b[0;32m    371\u001b[0m         \u001b[38;5;124m\"\u001b[39m\u001b[38;5;124m[#\u001b[39m\u001b[38;5;132;01m%04X\u001b[39;00m\u001b[38;5;124m]  _: <POOL> release unclean connection \u001b[39m\u001b[38;5;132;01m%s\u001b[39;00m\u001b[38;5;124m\"\u001b[39m,\n\u001b[0;32m    372\u001b[0m         connection\u001b[38;5;241m.\u001b[39mlocal_port, connection\u001b[38;5;241m.\u001b[39mconnection_id\n\u001b[0;32m    373\u001b[0m     )\n\u001b[1;32m--> 374\u001b[0m     connection\u001b[38;5;241m.\u001b[39mreset()\n\u001b[0;32m    375\u001b[0m \u001b[38;5;28;01mexcept\u001b[39;00m (Neo4jError, DriverError, BoltError) \u001b[38;5;28;01mas\u001b[39;00m exc:\n\u001b[0;32m    376\u001b[0m     log\u001b[38;5;241m.\u001b[39mdebug(\u001b[38;5;124m\"\u001b[39m\u001b[38;5;124m[#\u001b[39m\u001b[38;5;132;01m%04X\u001b[39;00m\u001b[38;5;124m]  _: <POOL> failed to reset connection \u001b[39m\u001b[38;5;124m\"\u001b[39m\n\u001b[0;32m    377\u001b[0m               \u001b[38;5;124m\"\u001b[39m\u001b[38;5;124mon release: \u001b[39m\u001b[38;5;132;01m%r\u001b[39;00m\u001b[38;5;124m\"\u001b[39m, connection\u001b[38;5;241m.\u001b[39mlocal_port, exc)\n",
      "File \u001b[1;32mZ:\\Anaconda3\\envs\\cs518graph\\Lib\\site-packages\\neo4j\\_sync\\io\\_bolt5.py:330\u001b[0m, in \u001b[0;36mBolt5x0.reset\u001b[1;34m(self, dehydration_hooks, hydration_hooks)\u001b[0m\n\u001b[0;32m    325\u001b[0m \u001b[38;5;28mself\u001b[39m\u001b[38;5;241m.\u001b[39m_append(\u001b[38;5;124mb\u001b[39m\u001b[38;5;124m\"\u001b[39m\u001b[38;5;130;01m\\x0F\u001b[39;00m\u001b[38;5;124m\"\u001b[39m,\n\u001b[0;32m    326\u001b[0m              response\u001b[38;5;241m=\u001b[39mResponse(\u001b[38;5;28mself\u001b[39m, \u001b[38;5;124m\"\u001b[39m\u001b[38;5;124mreset\u001b[39m\u001b[38;5;124m\"\u001b[39m, hydration_hooks,\n\u001b[0;32m    327\u001b[0m                                on_failure\u001b[38;5;241m=\u001b[39mfail),\n\u001b[0;32m    328\u001b[0m              dehydration_hooks\u001b[38;5;241m=\u001b[39mdehydration_hooks)\n\u001b[0;32m    329\u001b[0m \u001b[38;5;28mself\u001b[39m\u001b[38;5;241m.\u001b[39msend_all()\n\u001b[1;32m--> 330\u001b[0m \u001b[38;5;28mself\u001b[39m\u001b[38;5;241m.\u001b[39mfetch_all()\n",
      "File \u001b[1;32mZ:\\Anaconda3\\envs\\cs518graph\\Lib\\site-packages\\neo4j\\_sync\\io\\_bolt.py:865\u001b[0m, in \u001b[0;36mBolt.fetch_all\u001b[1;34m(self)\u001b[0m\n\u001b[0;32m    863\u001b[0m response \u001b[38;5;241m=\u001b[39m \u001b[38;5;28mself\u001b[39m\u001b[38;5;241m.\u001b[39mresponses[\u001b[38;5;241m0\u001b[39m]\n\u001b[0;32m    864\u001b[0m \u001b[38;5;28;01mwhile\u001b[39;00m \u001b[38;5;129;01mnot\u001b[39;00m response\u001b[38;5;241m.\u001b[39mcomplete:\n\u001b[1;32m--> 865\u001b[0m     detail_delta, summary_delta \u001b[38;5;241m=\u001b[39m \u001b[38;5;28mself\u001b[39m\u001b[38;5;241m.\u001b[39mfetch_message()\n\u001b[0;32m    866\u001b[0m     detail_count \u001b[38;5;241m+\u001b[39m\u001b[38;5;241m=\u001b[39m detail_delta\n\u001b[0;32m    867\u001b[0m     summary_count \u001b[38;5;241m+\u001b[39m\u001b[38;5;241m=\u001b[39m summary_delta\n",
      "File \u001b[1;32mZ:\\Anaconda3\\envs\\cs518graph\\Lib\\site-packages\\neo4j\\_sync\\io\\_bolt.py:848\u001b[0m, in \u001b[0;36mBolt.fetch_message\u001b[1;34m(self)\u001b[0m\n\u001b[0;32m    845\u001b[0m     \u001b[38;5;28;01mreturn\u001b[39;00m \u001b[38;5;241m0\u001b[39m, \u001b[38;5;241m0\u001b[39m\n\u001b[0;32m    847\u001b[0m \u001b[38;5;66;03m# Receive exactly one message\u001b[39;00m\n\u001b[1;32m--> 848\u001b[0m tag, fields \u001b[38;5;241m=\u001b[39m \u001b[38;5;28mself\u001b[39m\u001b[38;5;241m.\u001b[39minbox\u001b[38;5;241m.\u001b[39mpop(\n\u001b[0;32m    849\u001b[0m     hydration_hooks\u001b[38;5;241m=\u001b[39m\u001b[38;5;28mself\u001b[39m\u001b[38;5;241m.\u001b[39mresponses[\u001b[38;5;241m0\u001b[39m]\u001b[38;5;241m.\u001b[39mhydration_hooks\n\u001b[0;32m    850\u001b[0m )\n\u001b[0;32m    851\u001b[0m res \u001b[38;5;241m=\u001b[39m \u001b[38;5;28mself\u001b[39m\u001b[38;5;241m.\u001b[39m_process_message(tag, fields)\n\u001b[0;32m    852\u001b[0m \u001b[38;5;28mself\u001b[39m\u001b[38;5;241m.\u001b[39midle_since \u001b[38;5;241m=\u001b[39m perf_counter()\n",
      "File \u001b[1;32mZ:\\Anaconda3\\envs\\cs518graph\\Lib\\site-packages\\neo4j\\_sync\\io\\_common.py:74\u001b[0m, in \u001b[0;36mInbox.pop\u001b[1;34m(self, hydration_hooks)\u001b[0m\n\u001b[0;32m     73\u001b[0m \u001b[38;5;28;01mdef\u001b[39;00m \u001b[38;5;21mpop\u001b[39m(\u001b[38;5;28mself\u001b[39m, hydration_hooks):\n\u001b[1;32m---> 74\u001b[0m     \u001b[38;5;28mself\u001b[39m\u001b[38;5;241m.\u001b[39m_buffer_one_chunk()\n\u001b[0;32m     75\u001b[0m     \u001b[38;5;28;01mtry\u001b[39;00m:\n\u001b[0;32m     76\u001b[0m         size, tag \u001b[38;5;241m=\u001b[39m \u001b[38;5;28mself\u001b[39m\u001b[38;5;241m.\u001b[39m_unpacker\u001b[38;5;241m.\u001b[39munpack_structure_header()\n",
      "File \u001b[1;32mZ:\\Anaconda3\\envs\\cs518graph\\Lib\\site-packages\\neo4j\\_sync\\io\\_common.py:58\u001b[0m, in \u001b[0;36mInbox._buffer_one_chunk\u001b[1;34m(self)\u001b[0m\n\u001b[0;32m     55\u001b[0m     \u001b[38;5;28;01mif\u001b[39;00m chunk_size \u001b[38;5;241m==\u001b[39m \u001b[38;5;241m0\u001b[39m:\n\u001b[0;32m     56\u001b[0m         log\u001b[38;5;241m.\u001b[39mdebug(\u001b[38;5;124m\"\u001b[39m\u001b[38;5;124m[#\u001b[39m\u001b[38;5;132;01m%04X\u001b[39;00m\u001b[38;5;124m]  S: <NOOP>\u001b[39m\u001b[38;5;124m\"\u001b[39m, \u001b[38;5;28mself\u001b[39m\u001b[38;5;241m.\u001b[39m_local_port)\n\u001b[1;32m---> 58\u001b[0m receive_into_buffer(\n\u001b[0;32m     59\u001b[0m     \u001b[38;5;28mself\u001b[39m\u001b[38;5;241m.\u001b[39m_socket, \u001b[38;5;28mself\u001b[39m\u001b[38;5;241m.\u001b[39m_buffer, chunk_size \u001b[38;5;241m+\u001b[39m \u001b[38;5;241m2\u001b[39m\n\u001b[0;32m     60\u001b[0m )\n\u001b[0;32m     61\u001b[0m chunk_size \u001b[38;5;241m=\u001b[39m \u001b[38;5;28mself\u001b[39m\u001b[38;5;241m.\u001b[39m_buffer\u001b[38;5;241m.\u001b[39mpop_u16()\n\u001b[0;32m     63\u001b[0m \u001b[38;5;28;01mif\u001b[39;00m chunk_size \u001b[38;5;241m==\u001b[39m \u001b[38;5;241m0\u001b[39m:\n\u001b[0;32m     64\u001b[0m     \u001b[38;5;66;03m# chunk_size was the end marker for the message\u001b[39;00m\n",
      "File \u001b[1;32mZ:\\Anaconda3\\envs\\cs518graph\\Lib\\site-packages\\neo4j\\_sync\\io\\_common.py:305\u001b[0m, in \u001b[0;36mreceive_into_buffer\u001b[1;34m(sock, buffer, n_bytes)\u001b[0m\n\u001b[0;32m    303\u001b[0m end \u001b[38;5;241m=\u001b[39m buffer\u001b[38;5;241m.\u001b[39mused \u001b[38;5;241m+\u001b[39m n_bytes\n\u001b[0;32m    304\u001b[0m \u001b[38;5;28;01mif\u001b[39;00m end \u001b[38;5;241m>\u001b[39m \u001b[38;5;28mlen\u001b[39m(buffer\u001b[38;5;241m.\u001b[39mdata):\n\u001b[1;32m--> 305\u001b[0m     buffer\u001b[38;5;241m.\u001b[39mdata \u001b[38;5;241m+\u001b[39m\u001b[38;5;241m=\u001b[39m \u001b[38;5;28mbytearray\u001b[39m(end \u001b[38;5;241m-\u001b[39m \u001b[38;5;28mlen\u001b[39m(buffer\u001b[38;5;241m.\u001b[39mdata))\n\u001b[0;32m    306\u001b[0m \u001b[38;5;28;01mwith\u001b[39;00m \u001b[38;5;28mmemoryview\u001b[39m(buffer\u001b[38;5;241m.\u001b[39mdata) \u001b[38;5;28;01mas\u001b[39;00m view:\n\u001b[0;32m    307\u001b[0m     \u001b[38;5;28;01mwhile\u001b[39;00m buffer\u001b[38;5;241m.\u001b[39mused \u001b[38;5;241m<\u001b[39m end:\n",
      "\u001b[1;31mBufferError\u001b[0m: Existing exports of data: object cannot be re-sized"
     ]
    }
   ],
   "source": [
    "gds.run_cypher(\"\"\"\n",
    "CALL apoc.periodic.iterate(\n",
    "  'MATCH (n) RETURN n',\n",
    "  'DETACH DELETE n',\n",
    "  {batchSize:100, parallel:false}\n",
    ")\n",
    "\"\"\")"
   ]
  },
  {
   "cell_type": "markdown",
   "id": "a6013356",
   "metadata": {},
   "source": [
    "CREATE \"CyberAttackPattern\" node"
   ]
  },
  {
   "cell_type": "code",
   "execution_count": 17,
   "id": "7f8292e1",
   "metadata": {},
   "outputs": [
    {
     "data": {
      "text/html": [
       "<div>\n",
       "<style scoped>\n",
       "    .dataframe tbody tr th:only-of-type {\n",
       "        vertical-align: middle;\n",
       "    }\n",
       "\n",
       "    .dataframe tbody tr th {\n",
       "        vertical-align: top;\n",
       "    }\n",
       "\n",
       "    .dataframe thead th {\n",
       "        text-align: right;\n",
       "    }\n",
       "</style>\n",
       "<table border=\"1\" class=\"dataframe\">\n",
       "  <thead>\n",
       "    <tr style=\"text-align: right;\">\n",
       "      <th></th>\n",
       "    </tr>\n",
       "  </thead>\n",
       "  <tbody>\n",
       "  </tbody>\n",
       "</table>\n",
       "</div>"
      ],
      "text/plain": [
       "Empty DataFrame\n",
       "Columns: []\n",
       "Index: []"
      ]
     },
     "execution_count": 17,
     "metadata": {},
     "output_type": "execute_result"
    }
   ],
   "source": [
    "gds.run_cypher(\"\"\"\n",
    "UNWIND $data AS attackData\n",
    "CREATE (:CyberAttackPattern {\n",
    "  name: attackData.Name,\n",
    "  id: attackData.ID,\n",
    "  description: attackData.Description\n",
    "})\n",
    "\"\"\", {'data': attackData})"
   ]
  },
  {
   "cell_type": "markdown",
   "id": "efb75e23",
   "metadata": {},
   "source": [
    "Create \"HAS_INDICATOR\" relationships"
   ]
  },
  {
   "cell_type": "code",
   "execution_count": 18,
   "id": "bf4ecbeb",
   "metadata": {},
   "outputs": [
    {
     "data": {
      "text/html": [
       "<div>\n",
       "<style scoped>\n",
       "    .dataframe tbody tr th:only-of-type {\n",
       "        vertical-align: middle;\n",
       "    }\n",
       "\n",
       "    .dataframe tbody tr th {\n",
       "        vertical-align: top;\n",
       "    }\n",
       "\n",
       "    .dataframe thead th {\n",
       "        text-align: right;\n",
       "    }\n",
       "</style>\n",
       "<table border=\"1\" class=\"dataframe\">\n",
       "  <thead>\n",
       "    <tr style=\"text-align: right;\">\n",
       "      <th></th>\n",
       "    </tr>\n",
       "  </thead>\n",
       "  <tbody>\n",
       "  </tbody>\n",
       "</table>\n",
       "</div>"
      ],
      "text/plain": [
       "Empty DataFrame\n",
       "Columns: []\n",
       "Index: []"
      ]
     },
     "execution_count": 18,
     "metadata": {},
     "output_type": "execute_result"
    }
   ],
   "source": [
    "gds.run_cypher(\"\"\"\n",
    "UNWIND $data AS attackData\n",
    "MERGE (attack:CyberAttackPattern {name: attackData.Name})\n",
    "WITH attack, COALESCE(attackData.Indicators, 'None') AS indicator\n",
    "WHERE indicator <> '' AND NOT indicator IS NULL AND NOT indicator =~ '.*NaN.*'\n",
    "MERGE (i:Indicator {type: indicator})\n",
    "MERGE (attack)-[:HAS_INDICATOR]->(i)\n",
    "\"\"\", {'data': attackData})"
   ]
  },
  {
   "cell_type": "markdown",
   "id": "c69e6152",
   "metadata": {},
   "source": [
    "Create \"HAS_PREREQUISITE\" relationships"
   ]
  },
  {
   "cell_type": "code",
   "execution_count": 19,
   "id": "992ce858",
   "metadata": {},
   "outputs": [
    {
     "data": {
      "text/html": [
       "<div>\n",
       "<style scoped>\n",
       "    .dataframe tbody tr th:only-of-type {\n",
       "        vertical-align: middle;\n",
       "    }\n",
       "\n",
       "    .dataframe tbody tr th {\n",
       "        vertical-align: top;\n",
       "    }\n",
       "\n",
       "    .dataframe thead th {\n",
       "        text-align: right;\n",
       "    }\n",
       "</style>\n",
       "<table border=\"1\" class=\"dataframe\">\n",
       "  <thead>\n",
       "    <tr style=\"text-align: right;\">\n",
       "      <th></th>\n",
       "    </tr>\n",
       "  </thead>\n",
       "  <tbody>\n",
       "  </tbody>\n",
       "</table>\n",
       "</div>"
      ],
      "text/plain": [
       "Empty DataFrame\n",
       "Columns: []\n",
       "Index: []"
      ]
     },
     "execution_count": 19,
     "metadata": {},
     "output_type": "execute_result"
    }
   ],
   "source": [
    "gds.run_cypher(\"\"\"\n",
    "UNWIND $data AS attackData\n",
    "MERGE (attack:CyberAttackPattern {name: attackData.Name})\n",
    "WITH attack, COALESCE(attackData.Prerequisites, 'None') AS prerequisites\n",
    "WHERE prerequisites <> '' AND NOT prerequisites IS NULL AND NOT prerequisites =~ '.*NaN.*'\n",
    "MERGE (p:Prerequisite {type: prerequisites})\n",
    "MERGE (attack)-[:HAS_PREREQUISITE]->(p)\n",
    "\"\"\", {'data': attackData})"
   ]
  },
  {
   "cell_type": "markdown",
   "id": "9a52691c",
   "metadata": {},
   "source": [
    "Get and store the amount of times an attack pattern is a child by another"
   ]
  },
  {
   "cell_type": "code",
   "execution_count": 20,
   "id": "ec6d61b5",
   "metadata": {},
   "outputs": [
    {
     "data": {
      "text/html": [
       "<div>\n",
       "<style scoped>\n",
       "    .dataframe tbody tr th:only-of-type {\n",
       "        vertical-align: middle;\n",
       "    }\n",
       "\n",
       "    .dataframe tbody tr th {\n",
       "        vertical-align: top;\n",
       "    }\n",
       "\n",
       "    .dataframe thead th {\n",
       "        text-align: right;\n",
       "    }\n",
       "</style>\n",
       "<table border=\"1\" class=\"dataframe\">\n",
       "  <thead>\n",
       "    <tr style=\"text-align: right;\">\n",
       "      <th></th>\n",
       "      <th>ID</th>\n",
       "      <th>ChildOf ID</th>\n",
       "      <th>count</th>\n",
       "    </tr>\n",
       "  </thead>\n",
       "  <tbody>\n",
       "    <tr>\n",
       "      <th>0</th>\n",
       "      <td>1</td>\n",
       "      <td>122.0</td>\n",
       "      <td>2</td>\n",
       "    </tr>\n",
       "    <tr>\n",
       "      <th>1</th>\n",
       "      <td>10</td>\n",
       "      <td>100.0</td>\n",
       "      <td>0</td>\n",
       "    </tr>\n",
       "    <tr>\n",
       "      <th>2</th>\n",
       "      <td>100</td>\n",
       "      <td>123.0</td>\n",
       "      <td>12</td>\n",
       "    </tr>\n",
       "    <tr>\n",
       "      <th>3</th>\n",
       "      <td>101</td>\n",
       "      <td>253.0</td>\n",
       "      <td>0</td>\n",
       "    </tr>\n",
       "    <tr>\n",
       "      <th>4</th>\n",
       "      <td>102</td>\n",
       "      <td>593.0</td>\n",
       "      <td>0</td>\n",
       "    </tr>\n",
       "  </tbody>\n",
       "</table>\n",
       "</div>"
      ],
      "text/plain": [
       "    ID  ChildOf ID  count\n",
       "0    1       122.0      2\n",
       "1   10       100.0      0\n",
       "2  100       123.0     12\n",
       "3  101       253.0      0\n",
       "4  102       593.0      0"
      ]
     },
     "execution_count": 20,
     "metadata": {},
     "output_type": "execute_result"
    }
   ],
   "source": [
    "child = df[['ID', 'Related Attack Patterns']].copy()\n",
    "child['ChildOf ID'] = child['Related Attack Patterns'].str.extract(r'ChildOf:CAPEC ID:(\\d+)').astype(float)\n",
    "child.drop(columns=['Related Attack Patterns'], inplace=True)\n",
    "child['ChildOf ID'].fillna(0, inplace=True)\n",
    "child['count'] = 0\n",
    "for index, row in child.iterrows():\n",
    "    child_id = int(row['ChildOf ID'])\n",
    "    if child_id != 0:\n",
    "        child.loc[child['ID'] == child_id, 'count'] += 1.0\n",
    "child.head()"
   ]
  },
  {
   "cell_type": "markdown",
   "id": "a48716ef",
   "metadata": {},
   "source": [
    "Create relationships that connect to other Cyber Attack Patterns"
   ]
  },
  {
   "cell_type": "code",
   "execution_count": 21,
   "id": "c7ce690a",
   "metadata": {},
   "outputs": [],
   "source": [
    " for row in attackData:\n",
    "    attack_id = row['ID']\n",
    "    attack_name = row['Name']\n",
    "    related_patterns = str(row['Related Attack Patterns'])\n",
    "    \n",
    "    child_id = None\n",
    "    follows_id = None\n",
    "    peer_of_id = None\n",
    "    can_proceed_id = None\n",
    "    \n",
    "    if 'ChildOf' in related_patterns:\n",
    "        child_id_start = related_patterns.find('ChildOf:CAPEC ID:') + len('ChildOf:CAPEC ID:')\n",
    "        child_id_end = related_patterns.find(' ', child_id_start)\n",
    "        child_id_str = related_patterns[child_id_start:child_id_end]\n",
    "        child_id = int(''.join(filter(str.isdigit, child_id_str)))\n",
    "        \n",
    "    if 'CanFollow' in related_patterns:\n",
    "        follows_id_start = related_patterns.find('CanFollow:CAPEC ID:') + len('CanFollow:CAPEC ID:')\n",
    "        follows_id_end = related_patterns.find(' ', follows_id_start)\n",
    "        follows_id_str = related_patterns[follows_id_start:follows_id_end]\n",
    "        follows_id = int(''.join(filter(str.isdigit, follows_id_str)))\n",
    "    \n",
    "    if 'PeerOf' in related_patterns:\n",
    "        peer_of_id_start = related_patterns.find('PeerOf:CAPEC ID:') + len('PeerOf:CAPEC ID:')\n",
    "        peer_of_id_end = related_patterns.find(' ', peer_of_id_start)\n",
    "        peer_of_id_str = related_patterns[peer_of_id_start:peer_of_id_end]\n",
    "        peer_of_id = int(''.join(filter(str.isdigit, peer_of_id_str)))\n",
    "        \n",
    "    if 'CanPrecede' in related_patterns:\n",
    "        can_proceed_id_start = related_patterns.find('CanPrecede:CAPEC ID:') + len('CanPrecede:CAPEC ID:')\n",
    "        can_proceed_id_end = related_patterns.find(' ', can_proceed_id_start)\n",
    "        can_proceed_id_str = related_patterns[can_proceed_id_start:can_proceed_id_end]\n",
    "        can_proceed_id = int(''.join(filter(str.isdigit, can_proceed_id_str)))\n",
    "        \n",
    "    if child_id is not None:\n",
    "        gds.run_cypher(\"\"\"\n",
    "        UNWIND $data AS row\n",
    "        MATCH (a:CyberAttackPattern {id: $attack_id}), (b:CyberAttackPattern {id: $child_id})\n",
    "        CREATE (a)-[c:HAS_CHILD]->(b)\n",
    "        SET c.count = row.count\n",
    "        \"\"\", {\"attack_id\": attack_id, \"child_id\": child_id, \"data\": child.to_dict('records')})\n",
    "\n",
    "    if follows_id is not None:\n",
    "        gds.run_cypher(\"\"\"\n",
    "        MATCH (a:CyberAttackPattern {id: $attack_id}), (b:CyberAttackPattern {id: $follows_id})\n",
    "        CREATE (a)-[:FOLLOWS]->(b)\n",
    "        \"\"\", {\"attack_id\": attack_id, \"follows_id\": follows_id})\n",
    "        \n",
    "    if peer_of_id is not None:\n",
    "        gds.run_cypher(\"\"\"\n",
    "        MATCH (a:CyberAttackPattern {id: $attack_id}), (b:CyberAttackPattern {id: $peer_of_id})\n",
    "        CREATE (a)-[:PEER_OF]->(b)\n",
    "        \"\"\", {\"attack_id\": attack_id, \"peer_of_id\": peer_of_id})\n",
    "           \n",
    "    if can_proceed_id is not None:\n",
    "        gds.run_cypher(\"\"\"\n",
    "        MATCH (a:CyberAttackPattern {id: $attack_id}), (b:CyberAttackPattern {id: $can_proceed_id})\n",
    "        CREATE (a)-[:CAN_PROCEED]->(b)\n",
    "        \"\"\", {\"attack_id\": attack_id, \"can_proceed_id\": can_proceed_id})"
   ]
  },
  {
   "cell_type": "markdown",
   "id": "83c6af3f",
   "metadata": {},
   "source": [
    "Create \"REQUIRES_SKILL\" relationships"
   ]
  },
  {
   "cell_type": "code",
   "execution_count": 22,
   "id": "b9daba94",
   "metadata": {},
   "outputs": [],
   "source": [
    "for row in attackData:\n",
    "    attack_id = row['ID']\n",
    "    skills_required = str(row['Skills Required'])\n",
    "    \n",
    "    if skills_required:\n",
    "        gds.run_cypher(f\"\"\"\n",
    "        MERGE (a:CyberAttackPattern {{id: $attack_id}})\n",
    "        MERGE (s:Skill {{name: $skill_name}})\n",
    "        MERGE (a)-[:REQUIRES_SKILL]->(s)\n",
    "        \"\"\", {\"attack_id\": attack_id, \"skill_name\": skills_required})"
   ]
  },
  {
   "cell_type": "markdown",
   "id": "2e67ba35",
   "metadata": {},
   "source": [
    "Create \"CAUSES\" relationships"
   ]
  },
  {
   "cell_type": "code",
   "execution_count": 23,
   "id": "7dbc7a84",
   "metadata": {},
   "outputs": [],
   "source": [
    "for row in attackData:\n",
    "    attack_id = row['ID']\n",
    "    technical_impact_text = str(row['Consequences']).split('TECHNICAL IMPACT:', 1)[-1].strip()\n",
    "\n",
    "    if technical_impact_text:\n",
    "        gds.run_cypher(f\"\"\"\n",
    "        MERGE (a:CyberAttackPattern {{id: $attack_id}})\n",
    "        MERGE (c:Consequences {{type: $technical_impact_text}})\n",
    "        MERGE (a)-[:CAUSES]->(c)\n",
    "        \"\"\", {\"attack_id\": attack_id, \"technical_impact_text\": technical_impact_text})"
   ]
  },
  {
   "cell_type": "code",
   "execution_count": 24,
   "id": "cb849276",
   "metadata": {},
   "outputs": [],
   "source": [
    "def drop_graph(name):\n",
    "    \n",
    "    with driver.session() as session:\n",
    "        \n",
    "        drop_graph_query = \"\"\"\n",
    "        CALL gds.graph.drop('{}');\n",
    "        \"\"\".format(name)\n",
    "        \n",
    "        session.run(drop_graph_query)"
   ]
  },
  {
   "cell_type": "code",
   "execution_count": 25,
   "id": "408712e8",
   "metadata": {},
   "outputs": [],
   "source": [
    "drop_graph('cyberAttackPatterns')"
   ]
  },
  {
   "cell_type": "markdown",
   "id": "74b26ed8",
   "metadata": {},
   "source": [
    "Create a graph projection"
   ]
  },
  {
   "cell_type": "code",
   "execution_count": 33,
   "id": "75254d91",
   "metadata": {},
   "outputs": [],
   "source": [
    "node_projection = [\"CyberAttackPattern\"]"
   ]
  },
  {
   "cell_type": "code",
   "execution_count": 34,
   "id": "a3671ca7",
   "metadata": {},
   "outputs": [],
   "source": [
    "relationship_projection = {\"HAS_CHILD\": {\"properties\": \"count\"}}"
   ]
  },
  {
   "cell_type": "code",
   "execution_count": 35,
   "id": "d0c67717",
   "metadata": {},
   "outputs": [],
   "source": [
    "G, result = gds.graph.project(\"cyberAttackPatterns\", node_projection, relationship_projection)"
   ]
  },
  {
   "cell_type": "code",
   "execution_count": 36,
   "id": "4c04d9a7",
   "metadata": {},
   "outputs": [],
   "source": [
    "fastRP_stream_query = '''\n",
    "\n",
    "CALL gds.fastRP.stream('cyberAttackPatterns',\n",
    "  {\n",
    "    embeddingDimension: 6,\n",
    "    randomSeed: 42\n",
    "  }\n",
    ")\n",
    "YIELD nodeId, embedding\n",
    "RETURN nodeId, embedding\n",
    "'''"
   ]
  },
  {
   "cell_type": "code",
   "execution_count": 37,
   "id": "11671df6",
   "metadata": {},
   "outputs": [
    {
     "data": {
      "text/html": [
       "<div>\n",
       "<style scoped>\n",
       "    .dataframe tbody tr th:only-of-type {\n",
       "        vertical-align: middle;\n",
       "    }\n",
       "\n",
       "    .dataframe tbody tr th {\n",
       "        vertical-align: top;\n",
       "    }\n",
       "\n",
       "    .dataframe thead th {\n",
       "        text-align: right;\n",
       "    }\n",
       "</style>\n",
       "<table border=\"1\" class=\"dataframe\">\n",
       "  <thead>\n",
       "    <tr style=\"text-align: right;\">\n",
       "      <th></th>\n",
       "      <th>nodeId</th>\n",
       "      <th>embedding</th>\n",
       "    </tr>\n",
       "  </thead>\n",
       "  <tbody>\n",
       "    <tr>\n",
       "      <th>0</th>\n",
       "      <td>0</td>\n",
       "      <td>[0.0, 0.0, 0.0, 0.0, 0.0, 0.0]</td>\n",
       "    </tr>\n",
       "    <tr>\n",
       "      <th>1</th>\n",
       "      <td>1</td>\n",
       "      <td>[-0.5773502588272095, 0.0, 0.0, 0.5773502588272095, -0.5773502588272095, 0.0]</td>\n",
       "    </tr>\n",
       "    <tr>\n",
       "      <th>2</th>\n",
       "      <td>2</td>\n",
       "      <td>[0.0, 0.0, 0.0, 0.0, 0.0, 0.0]</td>\n",
       "    </tr>\n",
       "    <tr>\n",
       "      <th>3</th>\n",
       "      <td>3</td>\n",
       "      <td>[0.0, 0.0, 0.4082487225532532, 0.4082487225532532, 0.8164962530136108, 0.0]</td>\n",
       "    </tr>\n",
       "    <tr>\n",
       "      <th>4</th>\n",
       "      <td>4</td>\n",
       "      <td>[0.0, -0.7071067690849304, 0.0, 0.7071067690849304, 0.0, 0.0]</td>\n",
       "    </tr>\n",
       "    <tr>\n",
       "      <th>...</th>\n",
       "      <td>...</td>\n",
       "      <td>...</td>\n",
       "    </tr>\n",
       "    <tr>\n",
       "      <th>613</th>\n",
       "      <td>2330</td>\n",
       "      <td>[-0.7071067690849304, 0.0, 0.0, 0.0, -0.7071067690849304, 0.0]</td>\n",
       "    </tr>\n",
       "    <tr>\n",
       "      <th>614</th>\n",
       "      <td>2331</td>\n",
       "      <td>[0.0, 0.0, 0.0, 0.0, 0.0, 0.0]</td>\n",
       "    </tr>\n",
       "    <tr>\n",
       "      <th>615</th>\n",
       "      <td>2332</td>\n",
       "      <td>[0.0, 0.0, 0.4082487225532532, 0.4082487225532532, 0.8164962530136108, 0.0]</td>\n",
       "    </tr>\n",
       "    <tr>\n",
       "      <th>616</th>\n",
       "      <td>2333</td>\n",
       "      <td>[0.0, 0.3779664933681488, -0.3779664933681488, 0.7559259533882141, 0.0, -0.3779664933681488]</td>\n",
       "    </tr>\n",
       "    <tr>\n",
       "      <th>617</th>\n",
       "      <td>2334</td>\n",
       "      <td>[0.0, 0.0, 0.0, 0.0, 0.0, 0.0]</td>\n",
       "    </tr>\n",
       "  </tbody>\n",
       "</table>\n",
       "<p>618 rows × 2 columns</p>\n",
       "</div>"
      ],
      "text/plain": [
       "     nodeId  \\\n",
       "0         0   \n",
       "1         1   \n",
       "2         2   \n",
       "3         3   \n",
       "4         4   \n",
       "..      ...   \n",
       "613    2330   \n",
       "614    2331   \n",
       "615    2332   \n",
       "616    2333   \n",
       "617    2334   \n",
       "\n",
       "                                                                                        embedding  \n",
       "0                                                                  [0.0, 0.0, 0.0, 0.0, 0.0, 0.0]  \n",
       "1                   [-0.5773502588272095, 0.0, 0.0, 0.5773502588272095, -0.5773502588272095, 0.0]  \n",
       "2                                                                  [0.0, 0.0, 0.0, 0.0, 0.0, 0.0]  \n",
       "3                     [0.0, 0.0, 0.4082487225532532, 0.4082487225532532, 0.8164962530136108, 0.0]  \n",
       "4                                   [0.0, -0.7071067690849304, 0.0, 0.7071067690849304, 0.0, 0.0]  \n",
       "..                                                                                            ...  \n",
       "613                                [-0.7071067690849304, 0.0, 0.0, 0.0, -0.7071067690849304, 0.0]  \n",
       "614                                                                [0.0, 0.0, 0.0, 0.0, 0.0, 0.0]  \n",
       "615                   [0.0, 0.0, 0.4082487225532532, 0.4082487225532532, 0.8164962530136108, 0.0]  \n",
       "616  [0.0, 0.3779664933681488, -0.3779664933681488, 0.7559259533882141, 0.0, -0.3779664933681488]  \n",
       "617                                                                [0.0, 0.0, 0.0, 0.0, 0.0, 0.0]  \n",
       "\n",
       "[618 rows x 2 columns]"
      ]
     },
     "execution_count": 37,
     "metadata": {},
     "output_type": "execute_result"
    }
   ],
   "source": [
    "gds.run_cypher(fastRP_stream_query)"
   ]
  },
  {
   "cell_type": "code",
   "execution_count": 38,
   "id": "31d5a058",
   "metadata": {},
   "outputs": [],
   "source": [
    "pandasDF = driver.execute_query(\n",
    "    fastRP_stream_query,\n",
    "    database_= \"neo4j\",\n",
    "    result_transformer_=  neo4j.Result.to_df\n",
    ")"
   ]
  },
  {
   "cell_type": "code",
   "execution_count": 39,
   "id": "048096a3",
   "metadata": {},
   "outputs": [
    {
     "name": "stdout",
     "output_type": "stream",
     "text": [
      "   nodeId  \\\n",
      "0       0   \n",
      "1       1   \n",
      "2       2   \n",
      "3       3   \n",
      "4       4   \n",
      "\n",
      "                                                                       embedding  \n",
      "0                                                 [0.0, 0.0, 0.0, 0.0, 0.0, 0.0]  \n",
      "1  [-0.5773502588272095, 0.0, 0.0, 0.5773502588272095, -0.5773502588272095, 0.0]  \n",
      "2                                                 [0.0, 0.0, 0.0, 0.0, 0.0, 0.0]  \n",
      "3    [0.0, 0.0, 0.4082487225532532, 0.4082487225532532, 0.8164962530136108, 0.0]  \n",
      "4                  [0.0, -0.7071067690849304, 0.0, 0.7071067690849304, 0.0, 0.0]  \n"
     ]
    }
   ],
   "source": [
    "print(pandasDF.head())"
   ]
  },
  {
   "cell_type": "code",
   "execution_count": 40,
   "id": "fe505b1e",
   "metadata": {},
   "outputs": [
    {
     "name": "stdout",
     "output_type": "stream",
     "text": [
      "0                                                                    [0.0, 0.0, 0.0, 0.0, 0.0, 0.0]\n",
      "1                     [-0.5773502588272095, 0.0, 0.0, 0.5773502588272095, -0.5773502588272095, 0.0]\n",
      "2                                                                    [0.0, 0.0, 0.0, 0.0, 0.0, 0.0]\n",
      "3                       [0.0, 0.0, 0.4082487225532532, 0.4082487225532532, 0.8164962530136108, 0.0]\n",
      "4                                     [0.0, -0.7071067690849304, 0.0, 0.7071067690849304, 0.0, 0.0]\n",
      "                                                   ...                                             \n",
      "613                                  [-0.7071067690849304, 0.0, 0.0, 0.0, -0.7071067690849304, 0.0]\n",
      "614                                                                  [0.0, 0.0, 0.0, 0.0, 0.0, 0.0]\n",
      "615                     [0.0, 0.0, 0.4082487225532532, 0.4082487225532532, 0.8164962530136108, 0.0]\n",
      "616    [0.0, 0.3779664933681488, -0.3779664933681488, 0.7559259533882141, 0.0, -0.3779664933681488]\n",
      "617                                                                  [0.0, 0.0, 0.0, 0.0, 0.0, 0.0]\n",
      "Name: embedding, Length: 618, dtype: object\n"
     ]
    }
   ],
   "source": [
    "embedding = pandasDF.get(\"embedding\")\n",
    "print(embedding)"
   ]
  },
  {
   "cell_type": "code",
   "execution_count": 43,
   "id": "0a887365",
   "metadata": {},
   "outputs": [],
   "source": [
    "pagerank_query = '''\n",
    "\n",
    "CALL gds.pageRank.stream('cyberAttackPatterns')\n",
    "YIELD nodeId, score\n",
    "RETURN gds.util.asNode(nodeId).id AS patternID, score\n",
    "ORDER BY score DESC, patternID ASC\n",
    "\n",
    "'''"
   ]
  },
  {
   "cell_type": "code",
   "execution_count": 44,
   "id": "d44a6465",
   "metadata": {},
   "outputs": [
    {
     "data": {
      "text/html": [
       "<div>\n",
       "<style scoped>\n",
       "    .dataframe tbody tr th:only-of-type {\n",
       "        vertical-align: middle;\n",
       "    }\n",
       "\n",
       "    .dataframe tbody tr th {\n",
       "        vertical-align: top;\n",
       "    }\n",
       "\n",
       "    .dataframe thead th {\n",
       "        text-align: right;\n",
       "    }\n",
       "</style>\n",
       "<table border=\"1\" class=\"dataframe\">\n",
       "  <thead>\n",
       "    <tr style=\"text-align: right;\">\n",
       "      <th></th>\n",
       "      <th>patternID</th>\n",
       "      <th>score</th>\n",
       "    </tr>\n",
       "  </thead>\n",
       "  <tbody>\n",
       "    <tr>\n",
       "      <th>0</th>\n",
       "      <td>224</td>\n",
       "      <td>2.808375</td>\n",
       "    </tr>\n",
       "    <tr>\n",
       "      <th>1</th>\n",
       "      <td>22</td>\n",
       "      <td>2.483650</td>\n",
       "    </tr>\n",
       "    <tr>\n",
       "      <th>2</th>\n",
       "      <td>416</td>\n",
       "      <td>2.413125</td>\n",
       "    </tr>\n",
       "    <tr>\n",
       "      <th>3</th>\n",
       "      <td>169</td>\n",
       "      <td>2.375951</td>\n",
       "    </tr>\n",
       "    <tr>\n",
       "      <th>4</th>\n",
       "      <td>248</td>\n",
       "      <td>2.362125</td>\n",
       "    </tr>\n",
       "    <tr>\n",
       "      <th>...</th>\n",
       "      <td>...</td>\n",
       "      <td>...</td>\n",
       "    </tr>\n",
       "    <tr>\n",
       "      <th>613</th>\n",
       "      <td>646</td>\n",
       "      <td>0.150000</td>\n",
       "    </tr>\n",
       "    <tr>\n",
       "      <th>614</th>\n",
       "      <td>647</td>\n",
       "      <td>0.150000</td>\n",
       "    </tr>\n",
       "    <tr>\n",
       "      <th>615</th>\n",
       "      <td>648</td>\n",
       "      <td>0.150000</td>\n",
       "    </tr>\n",
       "    <tr>\n",
       "      <th>616</th>\n",
       "      <td>649</td>\n",
       "      <td>0.150000</td>\n",
       "    </tr>\n",
       "    <tr>\n",
       "      <th>617</th>\n",
       "      <td>650</td>\n",
       "      <td>0.150000</td>\n",
       "    </tr>\n",
       "  </tbody>\n",
       "</table>\n",
       "<p>618 rows × 2 columns</p>\n",
       "</div>"
      ],
      "text/plain": [
       "     patternID     score\n",
       "0          224  2.808375\n",
       "1           22  2.483650\n",
       "2          416  2.413125\n",
       "3          169  2.375951\n",
       "4          248  2.362125\n",
       "..         ...       ...\n",
       "613        646  0.150000\n",
       "614        647  0.150000\n",
       "615        648  0.150000\n",
       "616        649  0.150000\n",
       "617        650  0.150000\n",
       "\n",
       "[618 rows x 2 columns]"
      ]
     },
     "execution_count": 44,
     "metadata": {},
     "output_type": "execute_result"
    }
   ],
   "source": [
    "gds.run_cypher(pagerank_query)"
   ]
  },
  {
   "cell_type": "code",
   "execution_count": 45,
   "id": "3508ad1d",
   "metadata": {},
   "outputs": [],
   "source": [
    "pagerankDF = driver.execute_query(\n",
    "    pagerank_query,\n",
    "    database_=\"neo4j\",\n",
    "    result_transformer_=  neo4j.Result.to_df\n",
    ")"
   ]
  },
  {
   "cell_type": "code",
   "execution_count": 46,
   "id": "0c12149b",
   "metadata": {},
   "outputs": [
    {
     "name": "stdout",
     "output_type": "stream",
     "text": [
      "   patternID     score\n",
      "0        224  2.808375\n",
      "1         22  2.483650\n",
      "2        416  2.413125\n",
      "3        169  2.375951\n",
      "4        248  2.362125\n"
     ]
    }
   ],
   "source": [
    "print(pagerankDF.head())"
   ]
  },
  {
   "cell_type": "code",
   "execution_count": 53,
   "id": "e3748d25",
   "metadata": {},
   "outputs": [],
   "source": [
    "merged_df = pd.merge(pagerankDF, df, left_on='patternID', right_on='ID', how='left')"
   ]
  },
  {
   "cell_type": "markdown",
   "id": "efede124",
   "metadata": {},
   "source": [
    "Top 5 most vulnerable attack patterns"
   ]
  },
  {
   "cell_type": "code",
   "execution_count": 60,
   "id": "5c173bef",
   "metadata": {},
   "outputs": [
    {
     "name": "stdout",
     "output_type": "stream",
     "text": [
      "0                Fingerprinting\n",
      "1    Exploiting Trust in Client\n",
      "2     Manipulate Human Behavior\n",
      "3                  Footprinting\n",
      "4             Command Injection\n",
      "Name: Name, dtype: object\n"
     ]
    }
   ],
   "source": [
    "print(merged_df['Name'].head(5))"
   ]
  },
  {
   "cell_type": "code",
   "execution_count": null,
   "id": "18831981",
   "metadata": {},
   "outputs": [],
   "source": []
  }
 ],
 "metadata": {
  "kernelspec": {
   "display_name": "Python 3 (ipykernel)",
   "language": "python",
   "name": "python3"
  },
  "language_info": {
   "codemirror_mode": {
    "name": "ipython",
    "version": 3
   },
   "file_extension": ".py",
   "mimetype": "text/x-python",
   "name": "python",
   "nbconvert_exporter": "python",
   "pygments_lexer": "ipython3",
   "version": "3.11.5"
  }
 },
 "nbformat": 4,
 "nbformat_minor": 5
}
